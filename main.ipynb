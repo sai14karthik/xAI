{
 "cells": [
  {
   "cell_type": "code",
   "execution_count": 4,
   "metadata": {},
   "outputs": [],
   "source": [
    "import yfinance as yf\n",
    "import pandas as pd\n",
    "import numpy as np \n",
    "import matplotlib.pyplot as plt \n",
    "import seaborn as  sns \n",
    "plt.rcParams[\"figure.figsize\"]=(12,6)"
   ]
  },
  {
   "cell_type": "code",
   "execution_count": 3,
   "metadata": {},
   "outputs": [],
   "source": [
    "apple_stock = yf.Ticker(\"AAPL\")\n",
    "\n",
    "hist_data = apple_stock.history(period=\"max\")\n",
    "\n",
    "hist_data.to_csv(\"apple_stock.csv\")\n",
    "\n"
   ]
  },
  {
   "cell_type": "code",
   "execution_count": 5,
   "metadata": {},
   "outputs": [],
   "source": [
    "df=pd.read_csv(\"/Users/saikarthik/Desktop/xai /apple_stock.csv\")"
   ]
  },
  {
   "cell_type": "code",
   "execution_count": 6,
   "metadata": {},
   "outputs": [
    {
     "data": {
      "text/html": [
       "<div>\n",
       "<style scoped>\n",
       "    .dataframe tbody tr th:only-of-type {\n",
       "        vertical-align: middle;\n",
       "    }\n",
       "\n",
       "    .dataframe tbody tr th {\n",
       "        vertical-align: top;\n",
       "    }\n",
       "\n",
       "    .dataframe thead th {\n",
       "        text-align: right;\n",
       "    }\n",
       "</style>\n",
       "<table border=\"1\" class=\"dataframe\">\n",
       "  <thead>\n",
       "    <tr style=\"text-align: right;\">\n",
       "      <th></th>\n",
       "      <th>Date</th>\n",
       "      <th>Open</th>\n",
       "      <th>High</th>\n",
       "      <th>Low</th>\n",
       "      <th>Close</th>\n",
       "      <th>Volume</th>\n",
       "      <th>Dividends</th>\n",
       "      <th>Stock Splits</th>\n",
       "    </tr>\n",
       "  </thead>\n",
       "  <tbody>\n",
       "    <tr>\n",
       "      <th>0</th>\n",
       "      <td>1980-12-12 00:00:00-05:00</td>\n",
       "      <td>0.098943</td>\n",
       "      <td>0.099373</td>\n",
       "      <td>0.098943</td>\n",
       "      <td>0.098943</td>\n",
       "      <td>469033600</td>\n",
       "      <td>0.0</td>\n",
       "      <td>0.0</td>\n",
       "    </tr>\n",
       "    <tr>\n",
       "      <th>1</th>\n",
       "      <td>1980-12-15 00:00:00-05:00</td>\n",
       "      <td>0.094211</td>\n",
       "      <td>0.094211</td>\n",
       "      <td>0.093781</td>\n",
       "      <td>0.093781</td>\n",
       "      <td>175884800</td>\n",
       "      <td>0.0</td>\n",
       "      <td>0.0</td>\n",
       "    </tr>\n",
       "    <tr>\n",
       "      <th>2</th>\n",
       "      <td>1980-12-16 00:00:00-05:00</td>\n",
       "      <td>0.087328</td>\n",
       "      <td>0.087328</td>\n",
       "      <td>0.086898</td>\n",
       "      <td>0.086898</td>\n",
       "      <td>105728000</td>\n",
       "      <td>0.0</td>\n",
       "      <td>0.0</td>\n",
       "    </tr>\n",
       "    <tr>\n",
       "      <th>3</th>\n",
       "      <td>1980-12-17 00:00:00-05:00</td>\n",
       "      <td>0.089049</td>\n",
       "      <td>0.089479</td>\n",
       "      <td>0.089049</td>\n",
       "      <td>0.089049</td>\n",
       "      <td>86441600</td>\n",
       "      <td>0.0</td>\n",
       "      <td>0.0</td>\n",
       "    </tr>\n",
       "    <tr>\n",
       "      <th>4</th>\n",
       "      <td>1980-12-18 00:00:00-05:00</td>\n",
       "      <td>0.091630</td>\n",
       "      <td>0.092061</td>\n",
       "      <td>0.091630</td>\n",
       "      <td>0.091630</td>\n",
       "      <td>73449600</td>\n",
       "      <td>0.0</td>\n",
       "      <td>0.0</td>\n",
       "    </tr>\n",
       "  </tbody>\n",
       "</table>\n",
       "</div>"
      ],
      "text/plain": [
       "                        Date      Open      High       Low     Close  \\\n",
       "0  1980-12-12 00:00:00-05:00  0.098943  0.099373  0.098943  0.098943   \n",
       "1  1980-12-15 00:00:00-05:00  0.094211  0.094211  0.093781  0.093781   \n",
       "2  1980-12-16 00:00:00-05:00  0.087328  0.087328  0.086898  0.086898   \n",
       "3  1980-12-17 00:00:00-05:00  0.089049  0.089479  0.089049  0.089049   \n",
       "4  1980-12-18 00:00:00-05:00  0.091630  0.092061  0.091630  0.091630   \n",
       "\n",
       "      Volume  Dividends  Stock Splits  \n",
       "0  469033600        0.0           0.0  \n",
       "1  175884800        0.0           0.0  \n",
       "2  105728000        0.0           0.0  \n",
       "3   86441600        0.0           0.0  \n",
       "4   73449600        0.0           0.0  "
      ]
     },
     "execution_count": 6,
     "metadata": {},
     "output_type": "execute_result"
    }
   ],
   "source": [
    "df.head(5)"
   ]
  },
  {
   "cell_type": "code",
   "execution_count": 7,
   "metadata": {},
   "outputs": [
    {
     "data": {
      "text/html": [
       "<div>\n",
       "<style scoped>\n",
       "    .dataframe tbody tr th:only-of-type {\n",
       "        vertical-align: middle;\n",
       "    }\n",
       "\n",
       "    .dataframe tbody tr th {\n",
       "        vertical-align: top;\n",
       "    }\n",
       "\n",
       "    .dataframe thead th {\n",
       "        text-align: right;\n",
       "    }\n",
       "</style>\n",
       "<table border=\"1\" class=\"dataframe\">\n",
       "  <thead>\n",
       "    <tr style=\"text-align: right;\">\n",
       "      <th></th>\n",
       "      <th>Date</th>\n",
       "      <th>Open</th>\n",
       "      <th>High</th>\n",
       "      <th>Low</th>\n",
       "      <th>Close</th>\n",
       "      <th>Volume</th>\n",
       "      <th>Dividends</th>\n",
       "      <th>Stock Splits</th>\n",
       "    </tr>\n",
       "  </thead>\n",
       "  <tbody>\n",
       "    <tr>\n",
       "      <th>11037</th>\n",
       "      <td>2024-09-25 00:00:00-04:00</td>\n",
       "      <td>224.929993</td>\n",
       "      <td>227.289993</td>\n",
       "      <td>224.020004</td>\n",
       "      <td>226.369995</td>\n",
       "      <td>42308700</td>\n",
       "      <td>0.0</td>\n",
       "      <td>0.0</td>\n",
       "    </tr>\n",
       "    <tr>\n",
       "      <th>11038</th>\n",
       "      <td>2024-09-26 00:00:00-04:00</td>\n",
       "      <td>227.300003</td>\n",
       "      <td>228.500000</td>\n",
       "      <td>225.410004</td>\n",
       "      <td>227.520004</td>\n",
       "      <td>36636700</td>\n",
       "      <td>0.0</td>\n",
       "      <td>0.0</td>\n",
       "    </tr>\n",
       "    <tr>\n",
       "      <th>11039</th>\n",
       "      <td>2024-09-27 00:00:00-04:00</td>\n",
       "      <td>228.460007</td>\n",
       "      <td>229.520004</td>\n",
       "      <td>227.300003</td>\n",
       "      <td>227.789993</td>\n",
       "      <td>34026000</td>\n",
       "      <td>0.0</td>\n",
       "      <td>0.0</td>\n",
       "    </tr>\n",
       "    <tr>\n",
       "      <th>11040</th>\n",
       "      <td>2024-09-30 00:00:00-04:00</td>\n",
       "      <td>230.039993</td>\n",
       "      <td>233.000000</td>\n",
       "      <td>229.649994</td>\n",
       "      <td>233.000000</td>\n",
       "      <td>54541900</td>\n",
       "      <td>0.0</td>\n",
       "      <td>0.0</td>\n",
       "    </tr>\n",
       "    <tr>\n",
       "      <th>11041</th>\n",
       "      <td>2024-10-01 00:00:00-04:00</td>\n",
       "      <td>229.550003</td>\n",
       "      <td>229.619995</td>\n",
       "      <td>225.059998</td>\n",
       "      <td>225.110001</td>\n",
       "      <td>16495277</td>\n",
       "      <td>0.0</td>\n",
       "      <td>0.0</td>\n",
       "    </tr>\n",
       "  </tbody>\n",
       "</table>\n",
       "</div>"
      ],
      "text/plain": [
       "                            Date        Open        High         Low  \\\n",
       "11037  2024-09-25 00:00:00-04:00  224.929993  227.289993  224.020004   \n",
       "11038  2024-09-26 00:00:00-04:00  227.300003  228.500000  225.410004   \n",
       "11039  2024-09-27 00:00:00-04:00  228.460007  229.520004  227.300003   \n",
       "11040  2024-09-30 00:00:00-04:00  230.039993  233.000000  229.649994   \n",
       "11041  2024-10-01 00:00:00-04:00  229.550003  229.619995  225.059998   \n",
       "\n",
       "            Close    Volume  Dividends  Stock Splits  \n",
       "11037  226.369995  42308700        0.0           0.0  \n",
       "11038  227.520004  36636700        0.0           0.0  \n",
       "11039  227.789993  34026000        0.0           0.0  \n",
       "11040  233.000000  54541900        0.0           0.0  \n",
       "11041  225.110001  16495277        0.0           0.0  "
      ]
     },
     "execution_count": 7,
     "metadata": {},
     "output_type": "execute_result"
    }
   ],
   "source": [
    "df.tail(5)"
   ]
  },
  {
   "cell_type": "code",
   "execution_count": 8,
   "metadata": {},
   "outputs": [
    {
     "data": {
      "text/plain": [
       "(11042, 8)"
      ]
     },
     "execution_count": 8,
     "metadata": {},
     "output_type": "execute_result"
    }
   ],
   "source": [
    "df.shape"
   ]
  },
  {
   "cell_type": "code",
   "execution_count": 9,
   "metadata": {},
   "outputs": [
    {
     "data": {
      "text/plain": [
       "Index(['Date', 'Open', 'High', 'Low', 'Close', 'Volume', 'Dividends',\n",
       "       'Stock Splits'],\n",
       "      dtype='object')"
      ]
     },
     "execution_count": 9,
     "metadata": {},
     "output_type": "execute_result"
    }
   ],
   "source": [
    "df.columns"
   ]
  },
  {
   "cell_type": "code",
   "execution_count": 11,
   "metadata": {},
   "outputs": [
    {
     "name": "stdout",
     "output_type": "stream",
     "text": [
      "<class 'pandas.core.frame.DataFrame'>\n",
      "RangeIndex: 11042 entries, 0 to 11041\n",
      "Data columns (total 8 columns):\n",
      " #   Column        Non-Null Count  Dtype  \n",
      "---  ------        --------------  -----  \n",
      " 0   Date          11042 non-null  object \n",
      " 1   Open          11042 non-null  float64\n",
      " 2   High          11042 non-null  float64\n",
      " 3   Low           11042 non-null  float64\n",
      " 4   Close         11042 non-null  float64\n",
      " 5   Volume        11042 non-null  int64  \n",
      " 6   Dividends     11042 non-null  float64\n",
      " 7   Stock Splits  11042 non-null  float64\n",
      "dtypes: float64(6), int64(1), object(1)\n",
      "memory usage: 690.2+ KB\n"
     ]
    }
   ],
   "source": [
    "df.info()"
   ]
  },
  {
   "cell_type": "code",
   "execution_count": 13,
   "metadata": {},
   "outputs": [
    {
     "data": {
      "text/html": [
       "<div>\n",
       "<style scoped>\n",
       "    .dataframe tbody tr th:only-of-type {\n",
       "        vertical-align: middle;\n",
       "    }\n",
       "\n",
       "    .dataframe tbody tr th {\n",
       "        vertical-align: top;\n",
       "    }\n",
       "\n",
       "    .dataframe thead th {\n",
       "        text-align: right;\n",
       "    }\n",
       "</style>\n",
       "<table border=\"1\" class=\"dataframe\">\n",
       "  <thead>\n",
       "    <tr style=\"text-align: right;\">\n",
       "      <th></th>\n",
       "      <th>Open</th>\n",
       "      <th>High</th>\n",
       "      <th>Low</th>\n",
       "      <th>Close</th>\n",
       "      <th>Volume</th>\n",
       "      <th>Dividends</th>\n",
       "      <th>Stock Splits</th>\n",
       "    </tr>\n",
       "  </thead>\n",
       "  <tbody>\n",
       "    <tr>\n",
       "      <th>count</th>\n",
       "      <td>11042.000000</td>\n",
       "      <td>11042.000000</td>\n",
       "      <td>11042.000000</td>\n",
       "      <td>11042.000000</td>\n",
       "      <td>1.104200e+04</td>\n",
       "      <td>11042.000000</td>\n",
       "      <td>11042.000000</td>\n",
       "    </tr>\n",
       "    <tr>\n",
       "      <th>mean</th>\n",
       "      <td>22.281098</td>\n",
       "      <td>22.520895</td>\n",
       "      <td>22.051628</td>\n",
       "      <td>22.296040</td>\n",
       "      <td>3.170324e+08</td>\n",
       "      <td>0.000772</td>\n",
       "      <td>0.001540</td>\n",
       "    </tr>\n",
       "    <tr>\n",
       "      <th>std</th>\n",
       "      <td>47.167666</td>\n",
       "      <td>47.671591</td>\n",
       "      <td>46.695061</td>\n",
       "      <td>47.205365</td>\n",
       "      <td>3.352047e+08</td>\n",
       "      <td>0.011967</td>\n",
       "      <td>0.083496</td>\n",
       "    </tr>\n",
       "    <tr>\n",
       "      <th>min</th>\n",
       "      <td>0.038287</td>\n",
       "      <td>0.038287</td>\n",
       "      <td>0.037856</td>\n",
       "      <td>0.037856</td>\n",
       "      <td>0.000000e+00</td>\n",
       "      <td>0.000000</td>\n",
       "      <td>0.000000</td>\n",
       "    </tr>\n",
       "    <tr>\n",
       "      <th>25%</th>\n",
       "      <td>0.242593</td>\n",
       "      <td>0.247253</td>\n",
       "      <td>0.237761</td>\n",
       "      <td>0.242593</td>\n",
       "      <td>1.123749e+08</td>\n",
       "      <td>0.000000</td>\n",
       "      <td>0.000000</td>\n",
       "    </tr>\n",
       "    <tr>\n",
       "      <th>50%</th>\n",
       "      <td>0.435709</td>\n",
       "      <td>0.441764</td>\n",
       "      <td>0.429142</td>\n",
       "      <td>0.436048</td>\n",
       "      <td>2.047920e+08</td>\n",
       "      <td>0.000000</td>\n",
       "      <td>0.000000</td>\n",
       "    </tr>\n",
       "    <tr>\n",
       "      <th>75%</th>\n",
       "      <td>17.584826</td>\n",
       "      <td>17.752920</td>\n",
       "      <td>17.428158</td>\n",
       "      <td>17.581134</td>\n",
       "      <td>3.977848e+08</td>\n",
       "      <td>0.000000</td>\n",
       "      <td>0.000000</td>\n",
       "    </tr>\n",
       "    <tr>\n",
       "      <th>max</th>\n",
       "      <td>236.206595</td>\n",
       "      <td>236.955728</td>\n",
       "      <td>232.820515</td>\n",
       "      <td>234.548523</td>\n",
       "      <td>7.421641e+09</td>\n",
       "      <td>0.250000</td>\n",
       "      <td>7.000000</td>\n",
       "    </tr>\n",
       "  </tbody>\n",
       "</table>\n",
       "</div>"
      ],
      "text/plain": [
       "               Open          High           Low         Close        Volume  \\\n",
       "count  11042.000000  11042.000000  11042.000000  11042.000000  1.104200e+04   \n",
       "mean      22.281098     22.520895     22.051628     22.296040  3.170324e+08   \n",
       "std       47.167666     47.671591     46.695061     47.205365  3.352047e+08   \n",
       "min        0.038287      0.038287      0.037856      0.037856  0.000000e+00   \n",
       "25%        0.242593      0.247253      0.237761      0.242593  1.123749e+08   \n",
       "50%        0.435709      0.441764      0.429142      0.436048  2.047920e+08   \n",
       "75%       17.584826     17.752920     17.428158     17.581134  3.977848e+08   \n",
       "max      236.206595    236.955728    232.820515    234.548523  7.421641e+09   \n",
       "\n",
       "          Dividends  Stock Splits  \n",
       "count  11042.000000  11042.000000  \n",
       "mean       0.000772      0.001540  \n",
       "std        0.011967      0.083496  \n",
       "min        0.000000      0.000000  \n",
       "25%        0.000000      0.000000  \n",
       "50%        0.000000      0.000000  \n",
       "75%        0.000000      0.000000  \n",
       "max        0.250000      7.000000  "
      ]
     },
     "execution_count": 13,
     "metadata": {},
     "output_type": "execute_result"
    }
   ],
   "source": [
    "df.describe()"
   ]
  },
  {
   "cell_type": "code",
   "execution_count": 15,
   "metadata": {},
   "outputs": [
    {
     "data": {
      "text/plain": [
       "0.000000    10958\n",
       "0.001071       21\n",
       "0.142500        4\n",
       "0.240000        4\n",
       "0.230000        4\n",
       "0.220000        4\n",
       "0.205000        4\n",
       "0.192500        4\n",
       "0.182500        4\n",
       "0.157500        4\n",
       "0.130000        4\n",
       "0.117500        4\n",
       "0.108929        4\n",
       "0.000982        4\n",
       "0.000893        4\n",
       "0.000714        4\n",
       "0.094643        3\n",
       "0.000536        2\n",
       "0.250000        2\n",
       "Name: Dividends, dtype: int64"
      ]
     },
     "execution_count": 15,
     "metadata": {},
     "output_type": "execute_result"
    }
   ],
   "source": [
    "df[\"Dividends\"].value_counts()"
   ]
  },
  {
   "cell_type": "code",
   "execution_count": 16,
   "metadata": {},
   "outputs": [
    {
     "data": {
      "text/plain": [
       "0.0    11037\n",
       "2.0        3\n",
       "7.0        1\n",
       "4.0        1\n",
       "Name: Stock Splits, dtype: int64"
      ]
     },
     "execution_count": 16,
     "metadata": {},
     "output_type": "execute_result"
    }
   ],
   "source": [
    "df[\"Stock Splits\"].value_counts()"
   ]
  },
  {
   "cell_type": "code",
   "execution_count": 23,
   "metadata": {},
   "outputs": [
    {
     "name": "stdout",
     "output_type": "stream",
     "text": [
      "Max value of Date 2024-10-01 00:00:00-04:00\n",
      "Min value of Date 1980-12-12 00:00:00-05:00\n",
      " \n",
      "Max value of Open 236.2065948881155\n",
      "Min value of Open 0.0382866392588654\n",
      " \n",
      "Max value of High 236.95572779308304\n",
      "Min value of High 0.0382866392588654\n",
      " \n",
      "Max value of Low 232.82051476730803\n",
      "Min value of Low 0.0378564782440662\n",
      " \n",
      "Max value of Close 234.54852294921875\n",
      "Min value of Close 0.0378564782440662\n",
      " \n",
      "Max value of Volume 7421640800\n",
      "Min value of Volume 0\n",
      " \n",
      "Max value of Dividends 0.25\n",
      "Min value of Dividends 0.0\n",
      " \n",
      "Max value of Stock Splits 7.0\n",
      "Min value of Stock Splits 0.0\n",
      " \n"
     ]
    }
   ],
   "source": [
    "for i in df.columns :\n",
    "    print(\"Max value of \"+str(i)+\" \"+str(df[i].max()))\n",
    "    print(\"Min value of \"+str(i)+\" \"+str(df[i].min()))\n",
    "    print(\" \")"
   ]
  }
 ],
 "metadata": {
  "kernelspec": {
   "display_name": "Python 3",
   "language": "python",
   "name": "python3"
  },
  "language_info": {
   "codemirror_mode": {
    "name": "ipython",
    "version": 3
   },
   "file_extension": ".py",
   "mimetype": "text/x-python",
   "name": "python",
   "nbconvert_exporter": "python",
   "pygments_lexer": "ipython3",
   "version": "3.8.16"
  }
 },
 "nbformat": 4,
 "nbformat_minor": 2
}
